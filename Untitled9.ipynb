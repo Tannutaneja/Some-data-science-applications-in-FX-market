{
 "cells": [
  {
   "cell_type": "markdown",
   "metadata": {},
   "source": [
    "# Autoregression(AR) model\n",
    " \n",
    "Autoregression is a time series model that uses observations from previous time steps as input to a regression equation to predict the value at the next time step.\n",
    "\n",
    "It is a very simple idea that can result in accurate forecasts on a range of time series problems.\n",
    "\n",
    "This relationship between variables is called correlation.\n",
    "\n",
    "If both variables change in the same direction (e.g. go up together or down together), this is called a positive correlation. If the variables move in opposite directions as values change (e.g. one goes up and one goes down), then this is called negative correlation.\n",
    "\n",
    "We can use statistical measures to calculate the correlation between the output variable and values at previous time steps at various different lags. The stronger the correlation between the output variable and a specific lagged variable, the more weight that autoregression model can put on that variable when modeling.\n",
    "\n",
    "The correlation statistics can also help to choose which lag variables will be useful in a model and which will not.\n",
    "\n",
    "Interestingly, if all lag variables show low or no correlation with the output variable, then it suggests that the time series problem may not be predictable."
   ]
  },
  {
   "cell_type": "code",
   "execution_count": 86,
   "metadata": {
    "scrolled": true
   },
   "outputs": [
    {
     "name": "stdout",
     "output_type": "stream",
     "text": [
      "Requirement already up-to-date: statsmodels in c:\\users\\sony\\anaconda3\\lib\\site-packages (0.13.1)\n",
      "Requirement already satisfied, skipping upgrade: numpy>=1.17 in c:\\users\\sony\\anaconda3\\lib\\site-packages (from statsmodels) (1.21.4)\n",
      "Requirement already satisfied, skipping upgrade: pandas>=0.25 in c:\\users\\sony\\anaconda3\\lib\\site-packages (from statsmodels) (1.1.3)\n",
      "Requirement already satisfied, skipping upgrade: patsy>=0.5.2 in c:\\users\\sony\\anaconda3\\lib\\site-packages (from statsmodels) (0.5.2)\n",
      "Requirement already satisfied, skipping upgrade: scipy>=1.3 in c:\\users\\sony\\anaconda3\\lib\\site-packages (from statsmodels) (1.5.2)\n",
      "Requirement already satisfied, skipping upgrade: python-dateutil>=2.7.3 in c:\\users\\sony\\anaconda3\\lib\\site-packages (from pandas>=0.25->statsmodels) (2.8.1)\n",
      "Requirement already satisfied, skipping upgrade: pytz>=2017.2 in c:\\users\\sony\\anaconda3\\lib\\site-packages (from pandas>=0.25->statsmodels) (2020.1)\n",
      "Requirement already satisfied, skipping upgrade: six in c:\\users\\sony\\anaconda3\\lib\\site-packages (from patsy>=0.5.2->statsmodels) (1.15.0)\n"
     ]
    }
   ],
   "source": [
    "!pip install statsmodels --upgrade"
   ]
  },
  {
   "cell_type": "code",
   "execution_count": 87,
   "metadata": {},
   "outputs": [],
   "source": [
    "import pandas as pd\n",
    "import numpy as np\n",
    "import statsmodels.api as sm\n",
    "\n",
    "import matplotlib.pyplot as plt\n",
    "from statsmodels.tsa.ar_model import AutoReg\n",
    "import matplotlib.pylab as rcParams\n",
    "%matplotlib inline\n",
    "from matplotlib.pylab import rcParams\n",
    "rcParams[\"figure.figsize\"] = 10,6\n",
    "from datetime import datetime"
   ]
  },
  {
   "cell_type": "code",
   "execution_count": 88,
   "metadata": {},
   "outputs": [
    {
     "data": {
      "text/html": [
       "<div>\n",
       "<style scoped>\n",
       "    .dataframe tbody tr th:only-of-type {\n",
       "        vertical-align: middle;\n",
       "    }\n",
       "\n",
       "    .dataframe tbody tr th {\n",
       "        vertical-align: top;\n",
       "    }\n",
       "\n",
       "    .dataframe thead th {\n",
       "        text-align: right;\n",
       "    }\n",
       "</style>\n",
       "<table border=\"1\" class=\"dataframe\">\n",
       "  <thead>\n",
       "    <tr style=\"text-align: right;\">\n",
       "      <th></th>\n",
       "      <th>Open</th>\n",
       "      <th>High</th>\n",
       "      <th>Low</th>\n",
       "      <th>Close</th>\n",
       "      <th>Adj Close</th>\n",
       "      <th>Volume</th>\n",
       "    </tr>\n",
       "    <tr>\n",
       "      <th>Date</th>\n",
       "      <th></th>\n",
       "      <th></th>\n",
       "      <th></th>\n",
       "      <th></th>\n",
       "      <th></th>\n",
       "      <th></th>\n",
       "    </tr>\n",
       "  </thead>\n",
       "  <tbody>\n",
       "    <tr>\n",
       "      <th>2020-11-16</th>\n",
       "      <td>1107.219971</td>\n",
       "      <td>1109.489990</td>\n",
       "      <td>1104.250000</td>\n",
       "      <td>1107.760010</td>\n",
       "      <td>1107.760010</td>\n",
       "      <td>0</td>\n",
       "    </tr>\n",
       "    <tr>\n",
       "      <th>2020-11-17</th>\n",
       "      <td>1106.140015</td>\n",
       "      <td>1107.469971</td>\n",
       "      <td>1103.319946</td>\n",
       "      <td>1106.089966</td>\n",
       "      <td>1106.089966</td>\n",
       "      <td>0</td>\n",
       "    </tr>\n",
       "    <tr>\n",
       "      <th>2020-11-18</th>\n",
       "      <td>1104.729980</td>\n",
       "      <td>1107.130005</td>\n",
       "      <td>1101.140015</td>\n",
       "      <td>1104.949951</td>\n",
       "      <td>1104.949951</td>\n",
       "      <td>0</td>\n",
       "    </tr>\n",
       "    <tr>\n",
       "      <th>2020-11-19</th>\n",
       "      <td>1106.439941</td>\n",
       "      <td>1118.400024</td>\n",
       "      <td>1106.439941</td>\n",
       "      <td>1105.900024</td>\n",
       "      <td>1105.900024</td>\n",
       "      <td>0</td>\n",
       "    </tr>\n",
       "    <tr>\n",
       "      <th>2020-11-20</th>\n",
       "      <td>1114.849976</td>\n",
       "      <td>1117.239990</td>\n",
       "      <td>1111.630005</td>\n",
       "      <td>1114.140015</td>\n",
       "      <td>1114.140015</td>\n",
       "      <td>0</td>\n",
       "    </tr>\n",
       "  </tbody>\n",
       "</table>\n",
       "</div>"
      ],
      "text/plain": [
       "                   Open         High          Low        Close    Adj Close  \\\n",
       "Date                                                                          \n",
       "2020-11-16  1107.219971  1109.489990  1104.250000  1107.760010  1107.760010   \n",
       "2020-11-17  1106.140015  1107.469971  1103.319946  1106.089966  1106.089966   \n",
       "2020-11-18  1104.729980  1107.130005  1101.140015  1104.949951  1104.949951   \n",
       "2020-11-19  1106.439941  1118.400024  1106.439941  1105.900024  1105.900024   \n",
       "2020-11-20  1114.849976  1117.239990  1111.630005  1114.140015  1114.140015   \n",
       "\n",
       "            Volume  \n",
       "Date                \n",
       "2020-11-16       0  \n",
       "2020-11-17       0  \n",
       "2020-11-18       0  \n",
       "2020-11-19       0  \n",
       "2020-11-20       0  "
      ]
     },
     "execution_count": 88,
     "metadata": {},
     "output_type": "execute_result"
    }
   ],
   "source": [
    "data = pd.read_csv(\"E:lectures\\\\finance analysis\\\\usdkrw.csv\",index_col = 0, parse_dates = True)\n",
    "data.head()"
   ]
  },
  {
   "cell_type": "code",
   "execution_count": 89,
   "metadata": {},
   "outputs": [],
   "source": [
    "X = data[\"Adj Close\"].values"
   ]
  },
  {
   "cell_type": "code",
   "execution_count": 90,
   "metadata": {},
   "outputs": [],
   "source": [
    "#print(X)"
   ]
  },
  {
   "cell_type": "code",
   "execution_count": 91,
   "metadata": {},
   "outputs": [
    {
     "data": {
      "text/plain": [
       "<AxesSubplot:xlabel='Date'>"
      ]
     },
     "execution_count": 91,
     "metadata": {},
     "output_type": "execute_result"
    },
    {
     "data": {
      "image/png": "[encoded data removed]",
      "text/plain": [
       "<Figure size 720x432 with 1 Axes>"
      ]
     },
     "metadata": {
      "needs_background": "light"
     },
     "output_type": "display_data"
    }
   ],
   "source": [
    "data[\"Adj Close\"].plot()"
   ]
  },
  {
   "cell_type": "markdown",
   "metadata": {},
   "source": [
    "# Check for Stationarity\n",
    "\n",
    "Intuitively, we can sat that if a TS has a particular behaviour over time, there is a very high probability that it will follow the same in the future. Also, the theories related to stationary series are more mature and easier to implement as compared to non-stationary series.\n",
    "\n",
    "Stationarity is defined using very strict criterion. However, for practical purposes we can assume the series to be stationary if it has constant statistical properties over time, ie. the following:\n",
    "\n",
    "constant mean\n",
    "constant variance\n",
    "an autocovariance that does not depend on time.\n",
    "\n",
    "\n",
    "## Augumented Diggiflow test"
   ]
  },
  {
   "cell_type": "code",
   "execution_count": null,
   "metadata": {},
   "outputs": [],
   "source": []
  },
  {
   "cell_type": "code",
   "execution_count": 92,
   "metadata": {},
   "outputs": [
    {
     "data": {
      "text/plain": [
       "Open         0\n",
       "High         0\n",
       "Low          0\n",
       "Close        0\n",
       "Adj Close    0\n",
       "Volume       0\n",
       "dtype: int64"
      ]
     },
     "execution_count": 92,
     "metadata": {},
     "output_type": "execute_result"
    }
   ],
   "source": [
    "data.isnull().sum()"
   ]
  },
  {
   "cell_type": "code",
   "execution_count": 93,
   "metadata": {},
   "outputs": [
    {
     "name": "stdout",
     "output_type": "stream",
     "text": [
      "ADF test statistic -0.7282966326479525\n",
      "p-Value 0.839283308392919\n",
      "Number of lags 1\n"
     ]
    }
   ],
   "source": [
    "from statsmodels.tsa.stattools import adfuller\n",
    "\n",
    "dataset = adfuller(data[\"Adj Close\"], autolag = \"AIC\")\n",
    "\n",
    "print(\"ADF test statistic\",dataset[0])\n",
    "print(\"p-Value\",dataset[1])\n",
    "print(\"Number of lags\",dataset[2])"
   ]
  },
  {
   "cell_type": "markdown",
   "metadata": {},
   "source": [
    "# Given data is not stationary"
   ]
  },
  {
   "cell_type": "markdown",
   "metadata": {},
   "source": [
    "#### p-value is greater than 0.05, so the data is not stationary\n",
    "\n",
    "I didn't get any dataset whose p-value is less than 0.05"
   ]
  },
  {
   "cell_type": "markdown",
   "metadata": {},
   "source": [
    "To make a data stationary, you may use log, square or cube of the data"
   ]
  },
  {
   "cell_type": "code",
   "execution_count": 94,
   "metadata": {},
   "outputs": [
    {
     "data": {
      "text/plain": [
       "[<matplotlib.lines.Line2D at 0xd47c966fd0>]"
      ]
     },
     "execution_count": 94,
     "metadata": {},
     "output_type": "execute_result"
    },
    {
     "data": {
      "image/png": "[encoded data removed]",
      "text/plain": [
       "<Figure size 720x432 with 1 Axes>"
      ]
     },
     "metadata": {
      "needs_background": "light"
     },
     "output_type": "display_data"
    }
   ],
   "source": [
    "# Estimating trend\n",
    "indexedDataset_logscale = np.log(data[\"Adj Close\"])\n",
    "plt.plot(indexedDataset_logscale)"
   ]
  },
  {
   "cell_type": "code",
   "execution_count": null,
   "metadata": {},
   "outputs": [],
   "source": []
  },
  {
   "cell_type": "code",
   "execution_count": null,
   "metadata": {},
   "outputs": [],
   "source": []
  },
  {
   "cell_type": "code",
   "execution_count": 95,
   "metadata": {},
   "outputs": [
    {
     "data": {
      "text/plain": [
       "[<matplotlib.lines.Line2D at 0xd47e186100>]"
      ]
     },
     "execution_count": 95,
     "metadata": {},
     "output_type": "execute_result"
    },
    {
     "data": {
      "image/png": "[encoded data removed]",
      "text/plain": [
       "<Figure size 720x432 with 1 Axes>"
      ]
     },
     "metadata": {
      "needs_background": "light"
     },
     "output_type": "display_data"
    }
   ],
   "source": [
    "\n",
    "plt.plot(indexedDataset_logscale)\n",
    "plt.plot(moving_average, color = \"Red\")"
   ]
  },
  {
   "cell_type": "code",
   "execution_count": null,
   "metadata": {},
   "outputs": [],
   "source": []
  },
  {
   "cell_type": "code",
   "execution_count": 96,
   "metadata": {
    "scrolled": true
   },
   "outputs": [
    {
     "data": {
      "text/plain": [
       "Date\n",
       "2020-12-01    0.000289\n",
       "2020-12-02   -0.001614\n",
       "2020-12-03   -0.007363\n",
       "2020-12-04   -0.013687\n",
       "2020-12-07   -0.018937\n",
       "Name: Adj Close, dtype: float64"
      ]
     },
     "execution_count": 96,
     "metadata": {},
     "output_type": "execute_result"
    }
   ],
   "source": [
    "moving_average = indexedDataset_logscale.rolling(window = 12).mean()\n",
    "movingSTD = indexedDataset_logscale.rolling(window = 12).std()\n",
    "logscale_minus_ma = indexedDataset_logscale - moving_average\n",
    "logscale_minus_ma.head(23)\n",
    "\n",
    "# Removing NAN values\n",
    "\n",
    "logscale_minus_ma.dropna(inplace = True)\n",
    "logscale_minus_ma.head()"
   ]
  },
  {
   "cell_type": "code",
   "execution_count": 97,
   "metadata": {
    "scrolled": true
   },
   "outputs": [
    {
     "name": "stdout",
     "output_type": "stream",
     "text": [
      "ADF test statistic -6.41730862473073\n",
      "p-Value 1.8277289628522354e-08\n",
      "Number of lags 4\n"
     ]
    }
   ],
   "source": [
    "# Again checking if the data has become stationary\n",
    "dataset = adfuller(logscale_minus_ma.values, autolag = \"AIC\")\n",
    "\n",
    "print(\"ADF test statistic\",dataset[0])\n",
    "print(\"p-Value\",dataset[1])\n",
    "print(\"Number of lags\",dataset[2])"
   ]
  },
  {
   "cell_type": "markdown",
   "metadata": {},
   "source": [
    "since P-value is less than 0.05 Thus our data is stationary now\n"
   ]
  },
  {
   "cell_type": "code",
   "execution_count": 98,
   "metadata": {},
   "outputs": [],
   "source": [
    "X = logscale_minus_ma.values"
   ]
  },
  {
   "cell_type": "markdown",
   "metadata": {},
   "source": [
    "# Partial AutoCorrelation Function\n",
    "\n",
    "#### Only direct effect of values in previous time lags\n",
    "\n",
    "# Auto- Correlation Function\n",
    "\n",
    "#### Direct and indirect effect of values in previous time lags\n",
    "\n",
    "We prefer partial Auto correlation over Auto-correlation as it only considers direct effect and is more precise. So, for Auto correlation we look at PACF"
   ]
  },
  {
   "cell_type": "code",
   "execution_count": null,
   "metadata": {},
   "outputs": [],
   "source": []
  },
  {
   "cell_type": "code",
   "execution_count": 99,
   "metadata": {},
   "outputs": [
    {
     "name": "stderr",
     "output_type": "stream",
     "text": [
      "C:\\Users\\sony\\anaconda3\\lib\\site-packages\\statsmodels\\graphics\\tsaplots.py:348: FutureWarning: The default method 'yw' can produce PACF values outside of the [-1,1] interval. After 0.13, the default will change tounadjusted Yule-Walker ('ywm'). You can use this method now by setting method='ywm'.\n",
      "  warnings.warn(\n"
     ]
    },
    {
     "data": {
      "image/png": "[encoded data removed]",
      "text/plain": [
       "<Figure size 720x432 with 1 Axes>"
      ]
     },
     "metadata": {
      "needs_background": "light"
     },
     "output_type": "display_data"
    }
   ],
   "source": [
    "from statsmodels.graphics.tsaplots import plot_pacf\n",
    "pacf = plot_pacf(X,lags = 25) # Partial autocorrelation plot"
   ]
  },
  {
   "cell_type": "code",
   "execution_count": 100,
   "metadata": {},
   "outputs": [
    {
     "name": "stderr",
     "output_type": "stream",
     "text": [
      "C:\\Users\\sony\\anaconda3\\lib\\site-packages\\statsmodels\\graphics\\tsaplots.py:348: FutureWarning: The default method 'yw' can produce PACF values outside of the [-1,1] interval. After 0.13, the default will change tounadjusted Yule-Walker ('ywm'). You can use this method now by setting method='ywm'.\n",
      "  warnings.warn(\n"
     ]
    },
    {
     "data": {
      "image/png": "[encoded data removed]",
      "text/plain": [
       "<Figure size 720x432 with 1 Axes>"
      ]
     },
     "metadata": {
      "needs_background": "light"
     },
     "output_type": "display_data"
    },
    {
     "data": {
      "image/png": "[encoded data removed]",
      "text/plain": [
       "<Figure size 720x432 with 1 Axes>"
      ]
     },
     "metadata": {
      "needs_background": "light"
     },
     "output_type": "display_data"
    }
   ],
   "source": [
    "from statsmodels.graphics.tsaplots import plot_pacf,plot_acf\n",
    "pacf = plot_pacf(X,lags = 25) # Partial autocorrelation plot\n",
    "acf = plot_acf(X, lags = 25)# Auto correlation"
   ]
  },
  {
   "cell_type": "code",
   "execution_count": 101,
   "metadata": {},
   "outputs": [],
   "source": [
    "# Splitting the data into training and testing dataset by taking testing set as last 7 days"
   ]
  },
  {
   "cell_type": "code",
   "execution_count": null,
   "metadata": {
    "scrolled": true
   },
   "outputs": [],
   "source": []
  },
  {
   "cell_type": "code",
   "execution_count": 102,
   "metadata": {
    "scrolled": true
   },
   "outputs": [],
   "source": [
    "# pyplot.plot(test, color = \"red\")"
   ]
  },
  {
   "cell_type": "code",
   "execution_count": 103,
   "metadata": {},
   "outputs": [],
   "source": [
    "train = X[:len(X) - 20]\n",
    "test = X[len(X) - 20:]\n",
    "\n",
    "model = AutoReg(train, lags = 2).fit()"
   ]
  },
  {
   "cell_type": "code",
   "execution_count": 104,
   "metadata": {
    "scrolled": true
   },
   "outputs": [
    {
     "name": "stdout",
     "output_type": "stream",
     "text": [
      "                            AutoReg Model Results                             \n",
      "==============================================================================\n",
      "Dep. Variable:                      y   No. Observations:                  230\n",
      "Model:                     AutoReg(2)   Log Likelihood                 925.480\n",
      "Method:               Conditional MLE   S.D. of innovations              0.004\n",
      "Date:                Mon, 20 Dec 2021   AIC                          -1842.960\n",
      "Time:                        13:00:41   BIC                          -1829.243\n",
      "Sample:                             2   HQIC                         -1837.426\n",
      "                                  230                                         \n",
      "==============================================================================\n",
      "                 coef    std err          z      P>|z|      [0.025      0.975]\n",
      "------------------------------------------------------------------------------\n",
      "const          0.0003      0.000      1.093      0.275      -0.000       0.001\n",
      "y.L1           0.8107      0.066     12.246      0.000       0.681       0.940\n",
      "y.L2          -0.0016      0.066     -0.025      0.980      -0.132       0.128\n",
      "                                    Roots                                    \n",
      "=============================================================================\n",
      "                  Real          Imaginary           Modulus         Frequency\n",
      "-----------------------------------------------------------------------------\n",
      "AR.1            1.2367           +0.0000j            1.2367            0.0000\n",
      "AR.2          490.7782           +0.0000j          490.7782            0.0000\n",
      "-----------------------------------------------------------------------------\n"
     ]
    }
   ],
   "source": [
    "print(model.summary())"
   ]
  },
  {
   "cell_type": "code",
   "execution_count": 105,
   "metadata": {},
   "outputs": [],
   "source": [
    "# here we took 2 time lags as shown by PACF model. now,\n",
    "#as p-value of time lag 2 is 0.932 which is very high, this implies this time lag is not very significant"
   ]
  },
  {
   "cell_type": "code",
   "execution_count": null,
   "metadata": {},
   "outputs": [],
   "source": []
  },
  {
   "cell_type": "code",
   "execution_count": 106,
   "metadata": {},
   "outputs": [
    {
     "name": "stdout",
     "output_type": "stream",
     "text": [
      "[-3.92396702e-03 -2.86024711e-03 -2.00008716e-03 -1.30453679e-03\n",
      " -7.42094526e-04 -2.87287346e-04  8.04829704e-05  3.77872748e-04\n",
      "  6.18350775e-04  8.12808303e-04  9.70052318e-04  1.09720440e-03\n",
      "  1.20002328e-03  1.28316561e-03  1.35039692e-03  1.40476212e-03\n",
      "  1.44872339e-03  1.48427176e-03  1.51301720e-03  1.53626161e-03]\n"
     ]
    }
   ],
   "source": [
    "pred = model.predict(start = len(train), end = len(X) - 1, dynamic = False)\n",
    "print(pred)"
   ]
  },
  {
   "cell_type": "code",
   "execution_count": 107,
   "metadata": {},
   "outputs": [
    {
     "data": {
      "text/plain": [
       "0.16218193054120167"
      ]
     },
     "execution_count": 107,
     "metadata": {},
     "output_type": "execute_result"
    }
   ],
   "source": [
    "from sklearn.metrics import r2_score\n",
    "r2_score(test, pred)"
   ]
  },
  {
   "cell_type": "markdown",
   "metadata": {},
   "source": [
    "#### Make predictions on test set and compare"
   ]
  },
  {
   "cell_type": "code",
   "execution_count": 108,
   "metadata": {},
   "outputs": [
    {
     "data": {
      "text/plain": [
       "[<matplotlib.lines.Line2D at 0xd47f390cd0>]"
      ]
     },
     "execution_count": 108,
     "metadata": {},
     "output_type": "execute_result"
    },
    {
     "data": {
      "image/png": "[encoded data removed]",
      "text/plain": [
       "<Figure size 720x432 with 1 Axes>"
      ]
     },
     "metadata": {
      "needs_background": "light"
     },
     "output_type": "display_data"
    }
   ],
   "source": [
    "pred = model.predict(start = len(train), end = len(X) - 1, dynamic = False)\n",
    "from matplotlib import pyplot\n",
    "pyplot.plot(pred)\n",
    "pyplot.plot(test, color = \"red\")\n",
    "#print(pred)"
   ]
  },
  {
   "cell_type": "markdown",
   "metadata": {},
   "source": [
    "# Calculate Error"
   ]
  },
  {
   "cell_type": "code",
   "execution_count": null,
   "metadata": {},
   "outputs": [],
   "source": [
    "from math import sqrt\n",
    "from sklearn.metrics import mean_squared_error\n",
    "rmse = sqrt(mean_squared_error(test,pred))"
   ]
  },
  {
   "cell_type": "code",
   "execution_count": null,
   "metadata": {},
   "outputs": [],
   "source": [
    "print(rmse)"
   ]
  },
  {
   "cell_type": "markdown",
   "metadata": {},
   "source": [
    "### Making future predictions"
   ]
  },
  {
   "cell_type": "code",
   "execution_count": null,
   "metadata": {},
   "outputs": [],
   "source": [
    "pred_future = model.predict(start = len(X) + 1,end = len(X) + 7, dynamic = False)"
   ]
  },
  {
   "cell_type": "code",
   "execution_count": null,
   "metadata": {},
   "outputs": [],
   "source": [
    "print(\"Next week predictions:\", pred_future)"
   ]
  },
  {
   "cell_type": "code",
   "execution_count": null,
   "metadata": {},
   "outputs": [],
   "source": []
  },
  {
   "cell_type": "markdown",
   "metadata": {},
   "source": [
    "# Moving Average model"
   ]
  },
  {
   "cell_type": "markdown",
   "metadata": {},
   "source": [
    "Rather than using past values of the forecast variable in a regression, a moving average model uses past forecast errors in a regression-like model.\n",
    "\n",
    "\n",
    "y_t = c + ε_t\n",
    "t\n",
    "+\n",
    "θ\n",
    "1\n",
    "ε\n",
    "t\n",
    "−\n",
    "1\n",
    "+\n",
    "θ\n",
    "2\n",
    "ε\n",
    "t\n",
    "−\n",
    "2\n",
    "+\n",
    "⋯\n",
    "+\n",
    "θ\n",
    "q\n",
    "ε\n",
    "t\n",
    "−\n",
    "q $\n",
    ",\n",
    " \n",
    "where  \n",
    "ε\n",
    "t\n",
    "  is white noise. We refer to this as an MA( \n",
    "q\n",
    " ) model, a moving average model of order  \n",
    "q\n",
    " ."
   ]
  },
  {
   "cell_type": "markdown",
   "metadata": {},
   "source": [
    "It is possible to write any stationary AR( \n",
    "p\n",
    " ) model as an MA( \n",
    "∞\n",
    " ) model. For example, using repeated substitution, we can demonstrate this for an AR(1) model:\n",
    "y\n",
    "t\n",
    "=\n",
    "ϕ\n",
    "1\n",
    "y\n",
    "t\n",
    "−\n",
    "1\n",
    "+\n",
    "ε\n",
    "t\n",
    "=\n",
    "ϕ\n",
    "1\n",
    "(\n",
    "ϕ\n",
    "1\n",
    "y\n",
    "t\n",
    "−\n",
    "2\n",
    "+\n",
    "ε\n",
    "t\n",
    "−\n",
    "1\n",
    ")\n",
    "+\n",
    "ε\n",
    "t\n",
    "=\n",
    "ϕ\n",
    "2\n",
    "1\n",
    "y\n",
    "t\n",
    "−\n",
    "2\n",
    "+\n",
    "ϕ\n",
    "1\n",
    "ε\n",
    "t\n",
    "−\n",
    "1\n",
    "+\n",
    "ε\n",
    "t\n",
    "=\n",
    "ϕ\n",
    "3\n",
    "1\n",
    "y\n",
    "t\n",
    "−\n",
    "3\n",
    "+\n",
    "ϕ\n",
    "2\n",
    "1\n",
    "ε\n",
    "t\n",
    "−\n",
    "2\n",
    "+\n",
    "ϕ\n",
    "1\n",
    "ε\n",
    "t\n",
    "−\n",
    "1\n",
    "+\n",
    "ε\n",
    "t\n",
    "etc.\n"
   ]
  },
  {
   "cell_type": "markdown",
   "metadata": {},
   "source": [
    "Provided  \n",
    "−\n",
    "1\n",
    "<\n",
    "ϕ\n",
    "1\n",
    "<\n",
    "1\n",
    " , the value of  \n",
    "ϕ\n",
    "k\n",
    "1\n",
    "  will get smaller as  \n",
    "k\n",
    "  gets larger. So eventually we obtain\n",
    "y\n",
    "t\n",
    "=\n",
    "ε\n",
    "t\n",
    "+\n",
    "ϕ\n",
    "1\n",
    "ε\n",
    "t\n",
    "−\n",
    "1\n",
    "+\n",
    "ϕ\n",
    "2\n",
    "1\n",
    "ε\n",
    "t\n",
    "−\n",
    "2\n",
    "+\n",
    "ϕ\n",
    "3\n",
    "1\n",
    "ε\n",
    "t\n",
    "−\n",
    "3\n",
    "+\n",
    "⋯\n",
    ",\n",
    " \n",
    "an MA( \n",
    "∞\n",
    " ) process.\n",
    "\n",
    "The reverse result holds if we impose some constraints on the MA parameters. Then the MA model is called invertible. That is, we can write any invertible MA( \n",
    "q\n",
    " ) process as an AR( \n",
    "∞\n",
    " ) process. Invertible models are not simply introduced to enable us to convert from MA models to AR models. They also have some desirable mathematical properties."
   ]
  },
  {
   "cell_type": "code",
   "execution_count": null,
   "metadata": {},
   "outputs": [],
   "source": [
    "import pandas as pd\n",
    "import numpy as np\n",
    "import statsmodels.api as sm\n",
    "\n",
    "data = pd.read_csv(\"E:lectures\\\\finance analysis\\\\usdkrw.csv\",index_col = 0, parse_dates = True)\n",
    "data.head()\n",
    "data.info"
   ]
  },
  {
   "cell_type": "markdown",
   "metadata": {},
   "source": [
    "# Auto correlation function\n",
    "\n",
    "#### Measure the correlation between current time period and previous time lags\n",
    "#### Takes into account direct and indirect effect\n",
    "#### between [-1,1] for pearson correlation coefficient"
   ]
  },
  {
   "cell_type": "code",
   "execution_count": null,
   "metadata": {},
   "outputs": [],
   "source": [
    "data_log = np.log(data[\"Adj Close\"])\n",
    "moving_avg = pd.DataFrame(data_log.rolling(window = 12).sum())\n",
    "print(moving_avg.head())"
   ]
  },
  {
   "cell_type": "code",
   "execution_count": null,
   "metadata": {},
   "outputs": [],
   "source": [
    "# Drop null values\n",
    "moving_avg.dropna()"
   ]
  },
  {
   "cell_type": "code",
   "execution_count": null,
   "metadata": {},
   "outputs": [],
   "source": [
    "import matplotlib.pyplot as plt\n",
    "plt.plot(data_log)\n",
    "plt.plot(moving_avg,color = \"red\")"
   ]
  },
  {
   "cell_type": "code",
   "execution_count": null,
   "metadata": {},
   "outputs": [],
   "source": []
  },
  {
   "cell_type": "code",
   "execution_count": null,
   "metadata": {},
   "outputs": [],
   "source": []
  },
  {
   "cell_type": "code",
   "execution_count": null,
   "metadata": {},
   "outputs": [],
   "source": []
  },
  {
   "cell_type": "code",
   "execution_count": null,
   "metadata": {},
   "outputs": [],
   "source": []
  },
  {
   "cell_type": "markdown",
   "metadata": {},
   "source": [
    "# ARIMA Model "
   ]
  },
  {
   "cell_type": "code",
   "execution_count": null,
   "metadata": {},
   "outputs": [],
   "source": [
    "pip install pmdarima"
   ]
  },
  {
   "cell_type": "code",
   "execution_count": null,
   "metadata": {},
   "outputs": [],
   "source": [
    "import numpy as np\n",
    "import pandas as pd"
   ]
  },
  {
   "cell_type": "code",
   "execution_count": null,
   "metadata": {},
   "outputs": [],
   "source": [
    "data1 = pd.read_csv(\"E:lectures\\\\finance analysis\\\\usdinr.csv\",index_col = \"Date\", parse_dates = True)\n",
    "data1 = data.dropna()"
   ]
  },
  {
   "cell_type": "code",
   "execution_count": null,
   "metadata": {},
   "outputs": [],
   "source": [
    "data1.shape"
   ]
  },
  {
   "cell_type": "code",
   "execution_count": null,
   "metadata": {},
   "outputs": [],
   "source": [
    "data1.head()"
   ]
  },
  {
   "cell_type": "code",
   "execution_count": null,
   "metadata": {},
   "outputs": [],
   "source": [
    "data1[\"Adj Close\"].plot(figsize = (15,8))"
   ]
  },
  {
   "cell_type": "code",
   "execution_count": null,
   "metadata": {},
   "outputs": [],
   "source": [
    "# Check for stationarity\n",
    "# Augumented Diggiflow test\n",
    "\n",
    "from statsmodels.tsa.stattools import adfuller\n",
    "\n",
    "# H0: It is non stationary\n",
    "# H1: It is stationary\n",
    "\n",
    "\n",
    "dataset = adfuller(data1[\"Adj Close\"], autolag = \"AIC\")\n",
    "\n",
    "print(\"ADF test statistic\",dataset[0])\n",
    "print(\"p-Value\",dataset[1])\n",
    "print(\"Number of lags\",dataset[2])\n",
    "print(\"Number of observations used for ADF Regression and critical values calculation:\",dataset[3])\n",
    "print(\"Critical values are: \")\n",
    "for key,value in dataset[4].items():\n",
    "    print(\"\\t\",key,\":\",value)"
   ]
  },
  {
   "cell_type": "markdown",
   "metadata": {},
   "source": [
    "Given data is not stationary\n",
    "p-value is greater than 0.05, so the data is not stationary\n",
    "\n",
    "To make a data stationary, you may use log, square or cube of the data"
   ]
  },
  {
   "cell_type": "code",
   "execution_count": null,
   "metadata": {},
   "outputs": [],
   "source": [
    "# Estimating trend\n",
    "data_log = np.log(data1[\"Adj Close\"])\n",
    "\n",
    "data_log_MA = data_log.rolling(window = 12).mean()\n",
    "data_log_STD = data_log.rolling(window = 12).std()\n",
    "plt.plot(data_log)\n",
    "plt.plot(data_log_MA, color = \"Red\")"
   ]
  },
  {
   "cell_type": "code",
   "execution_count": null,
   "metadata": {},
   "outputs": [],
   "source": [
    "data_log_minus_MA = data_log - data_log_MA\n",
    "data_log_minus_MA.head(23)"
   ]
  },
  {
   "cell_type": "code",
   "execution_count": null,
   "metadata": {},
   "outputs": [],
   "source": [
    "# Removing NAN values\n",
    "\n",
    "data_log_minus_MA.dropna(inplace = True)\n",
    "data_log_minus_MA.head()\n"
   ]
  },
  {
   "cell_type": "code",
   "execution_count": null,
   "metadata": {},
   "outputs": [],
   "source": [
    "# Again checking if the data has become stationary\n",
    "\n",
    "\n",
    "dataset = adfuller(data_log_minus_MA.values, autolag = \"AIC\")\n",
    "\n",
    "print(\"ADF test statistic\",dataset[0])\n",
    "print(\"p-Value\",dataset[1])\n",
    "print(\"Number of lags\",dataset[2])\n",
    "print(\"Number of observations used for ADF Regression and critical values calculation:\",dataset[3])\n",
    "print(\"Critical values are: \")\n",
    "for key,value in dataset[4].items():\n",
    "    print(\"\\t\",key,\":\",value)"
   ]
  },
  {
   "cell_type": "code",
   "execution_count": null,
   "metadata": {},
   "outputs": [],
   "source": [
    "# as p-value is less than 0.05, thus our data has become stationary\n",
    "# Now we can apply ARIMA model\n",
    "st_data = pd.DataFrame(data_log_minus_MA, columns = [\"Adj Close\"]) # Renaming the obtained stationary data as st_data"
   ]
  },
  {
   "cell_type": "code",
   "execution_count": null,
   "metadata": {},
   "outputs": [],
   "source": [
    "\n",
    "\n",
    "# Ignore harmless warnings\n",
    "import warnings\n",
    "warnings.filterwarnings(\"ignore\")"
   ]
  },
  {
   "cell_type": "code",
   "execution_count": null,
   "metadata": {},
   "outputs": [],
   "source": [
    "# Auto arima tries different orders of combinations like (1,0,0),(0,1,1),(0,1,2)\n",
    "# and for every mode, it assigns a score which is called AIC score\n",
    "# Our goal is to minimize the AIC score\n",
    "# we can set the starting p,q values and also set the max p and q values\n"
   ]
  },
  {
   "cell_type": "markdown",
   "metadata": {},
   "source": [
    "### ARIMA model has 3 parameters (p,d,q)\n",
    "p represents the order of AR model\n",
    "\n",
    "\n",
    "q represents the order of MA model\n",
    "\n",
    "\n",
    "d represents te number of times that the raw observations are differenced, also called the degree of differencing."
   ]
  },
  {
   "cell_type": "code",
   "execution_count": null,
   "metadata": {},
   "outputs": [],
   "source": [
    "from pmdarima import auto_arima\n",
    "stepwise_fit = auto_arima(st_data,trace = True)"
   ]
  },
  {
   "cell_type": "code",
   "execution_count": null,
   "metadata": {},
   "outputs": [],
   "source": [
    "stepwise_fit.summary()"
   ]
  },
  {
   "cell_type": "code",
   "execution_count": null,
   "metadata": {},
   "outputs": [],
   "source": []
  },
  {
   "cell_type": "code",
   "execution_count": null,
   "metadata": {},
   "outputs": [],
   "source": [
    "st_data.head()"
   ]
  },
  {
   "cell_type": "code",
   "execution_count": null,
   "metadata": {},
   "outputs": [],
   "source": [
    "from statsmodels.tsa.arima.model import ARIMA\n",
    "\n",
    "train = st_data.iloc[:-7]\n",
    "test = st_data.iloc[-7:]\n",
    "print(train.shape,test.shape)"
   ]
  },
  {
   "cell_type": "code",
   "execution_count": null,
   "metadata": {},
   "outputs": [],
   "source": [
    "model = ARIMA(train[\"Adj Close\"] ,order = (1,0,2))\n",
    "model = model.fit()\n"
   ]
  },
  {
   "cell_type": "code",
   "execution_count": null,
   "metadata": {},
   "outputs": [],
   "source": [
    "start = len(train)\n",
    "end  = len(train) + len(test) -1\n",
    "pred = model.predict(start = start, end = end,typ = \"levels\")\n",
    "print(pred)"
   ]
  },
  {
   "cell_type": "code",
   "execution_count": null,
   "metadata": {},
   "outputs": [],
   "source": [
    "# here index is number, so we need to convert the index to dates for better plotting\n",
    "pred.index = st_data.index[start:end+1]"
   ]
  },
  {
   "cell_type": "code",
   "execution_count": null,
   "metadata": {},
   "outputs": [],
   "source": [
    "model.summary()"
   ]
  },
  {
   "cell_type": "code",
   "execution_count": null,
   "metadata": {},
   "outputs": [],
   "source": [
    "pred.plot(legend = True)"
   ]
  },
  {
   "cell_type": "code",
   "execution_count": null,
   "metadata": {},
   "outputs": [],
   "source": [
    "from math import sqrt\n",
    "from sklearn.metrics import mean_squared_error\n",
    "rmse = sqrt(mean_squared_error(test,pred))\n",
    "print(rmse)"
   ]
  },
  {
   "cell_type": "code",
   "execution_count": null,
   "metadata": {},
   "outputs": [],
   "source": []
  },
  {
   "cell_type": "code",
   "execution_count": null,
   "metadata": {},
   "outputs": [],
   "source": []
  }
 ],
 "metadata": {
  "kernelspec": {
   "display_name": "Python 3",
   "language": "python",
   "name": "python3"
  },
  "language_info": {
   "codemirror_mode": {
    "name": "ipython",
    "version": 3
   },
   "file_extension": ".py",
   "mimetype": "text/x-python",
   "name": "python",
   "nbconvert_exporter": "python",
   "pygments_lexer": "ipython3",
   "version": "3.8.5"
  }
 },
 "nbformat": 4,
 "nbformat_minor": 4
}
